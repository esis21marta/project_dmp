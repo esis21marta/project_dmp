{
 "cells": [
  {
   "cell_type": "code",
   "execution_count": null,
   "metadata": {},
   "outputs": [],
   "source": [
    "import string\n",
    "import random\n",
    "import decimal\n",
    "from datetime import datetime, timedelta\n",
    "import pandas as pd"
   ]
  },
  {
   "cell_type": "code",
   "execution_count": null,
   "metadata": {},
   "outputs": [],
   "source": [
    "chars = string.ascii_lowercase + string.digits\n",
    "print(chars)"
   ]
  },
  {
   "cell_type": "markdown",
   "metadata": {},
   "source": [
    "### Generate Random String Of Given Size"
   ]
  },
  {
   "cell_type": "code",
   "execution_count": null,
   "metadata": {},
   "outputs": [],
   "source": [
    "def gen_random_string(size, chars):\n",
    "    return ''.join([random.choice(chars) for _ in range(size)])"
   ]
  },
  {
   "cell_type": "code",
   "execution_count": null,
   "metadata": {},
   "outputs": [],
   "source": [
    "print(gen_random_string(20, chars))"
   ]
  },
  {
   "cell_type": "markdown",
   "metadata": {},
   "source": [
    "### Generate Random Integer [L, H]"
   ]
  },
  {
   "cell_type": "code",
   "execution_count": null,
   "metadata": {},
   "outputs": [],
   "source": [
    "def gen_random_int(bigint=False, binary=False):\n",
    "    if bigint:\n",
    "        return random.randint(65536, 99999999999999999)\n",
    "    return random.randrange(65535)"
   ]
  },
  {
   "cell_type": "code",
   "execution_count": null,
   "metadata": {},
   "outputs": [],
   "source": [
    "gen_random_int(bigint=True)"
   ]
  },
  {
   "cell_type": "code",
   "execution_count": null,
   "metadata": {},
   "outputs": [],
   "source": [
    "gen_random_int()"
   ]
  },
  {
   "cell_type": "markdown",
   "metadata": {},
   "source": [
    "### Generate Random Binary Number"
   ]
  },
  {
   "cell_type": "code",
   "execution_count": null,
   "metadata": {},
   "outputs": [],
   "source": [
    "def gen_random_binary_int():\n",
    "    random.randint(0, 2)"
   ]
  },
  {
   "cell_type": "markdown",
   "metadata": {},
   "source": [
    "### Generate Random Date Between 2 Dates"
   ]
  },
  {
   "cell_type": "code",
   "execution_count": null,
   "metadata": {},
   "outputs": [],
   "source": [
    "def random_date(start, end, date_only=False):\n",
    "    delta = end - start\n",
    "    int_delta = (delta.days * 24 * 60 * 60) + delta.seconds\n",
    "    random_second = random.randrange(int_delta)\n",
    "    _date = start + timedelta(seconds=random_second)\n",
    "    if date_only:\n",
    "        return _date.date()\n",
    "    return _date"
   ]
  },
  {
   "cell_type": "code",
   "execution_count": null,
   "metadata": {},
   "outputs": [],
   "source": [
    "d1 = datetime.strptime('1/1/2018 1:30 PM', '%m/%d/%Y %I:%M %p')\n",
    "d2 = datetime.strptime('1/1/2019 4:50 AM', '%m/%d/%Y %I:%M %p')\n",
    "print(random_date(d1, d2))"
   ]
  },
  {
   "cell_type": "markdown",
   "metadata": {},
   "source": [
    "### Generate Random Decimal With Given Precision"
   ]
  },
  {
   "cell_type": "code",
   "execution_count": null,
   "metadata": {},
   "outputs": [],
   "source": [
    "def gen_random_number_ndigs(size):\n",
    "    numbers = \"123456789\"\n",
    "    random_number = \"\".join([random.choice(numbers) for _ in range(size)])\n",
    "    return int(random_number)"
   ]
  },
  {
   "cell_type": "code",
   "execution_count": null,
   "metadata": {},
   "outputs": [],
   "source": [
    "gen_random_number_ndigs(6)"
   ]
  },
  {
   "cell_type": "code",
   "execution_count": null,
   "metadata": {},
   "outputs": [],
   "source": [
    "def gen_random_decimal(i,d):\n",
    "    return decimal.Decimal('%d.%d' % (gen_random_number_ndigs(i), gen_random_number_ndigs(d)))"
   ]
  },
  {
   "cell_type": "code",
   "execution_count": null,
   "metadata": {},
   "outputs": [],
   "source": [
    "gen_random_decimal(18, 2)"
   ]
  },
  {
   "cell_type": "markdown",
   "metadata": {},
   "source": [
    "### Generate Random Year-Month yyyymm"
   ]
  },
  {
   "cell_type": "code",
   "execution_count": null,
   "metadata": {},
   "outputs": [],
   "source": [
    "def gen_date_yyyymm():\n",
    "    year = str(random.choice([2018, 2019, 2016, 2015]))\n",
    "    month = random.randrange(1, 13)\n",
    "    if(month < 10):\n",
    "        month = '0' + str(month)\n",
    "    return year + str(month)"
   ]
  },
  {
   "cell_type": "code",
   "execution_count": null,
   "metadata": {},
   "outputs": [],
   "source": [
    "gen_date_yyyymm()"
   ]
  },
  {
   "cell_type": "code",
   "execution_count": null,
   "metadata": {},
   "outputs": [],
   "source": []
  },
  {
   "cell_type": "markdown",
   "metadata": {},
   "source": [
    "### Generate Random Year-Month-data yyyy-mm-dd"
   ]
  },
  {
   "cell_type": "code",
   "execution_count": null,
   "metadata": {},
   "outputs": [],
   "source": [
    "def gen_date_yyyymmdd():\n",
    "    year = str(random.choice([2020, 2019]))\n",
    "    \n",
    "    if year==2020:\n",
    "        month = random.randrange(1, 8)\n",
    "    else:\n",
    "        month = random.randrange(1,13)\n",
    "    \n",
    "    if(month < 10):\n",
    "        month = '0' + str(month)\n",
    "    \n",
    "    date = random.randrange(1,29)\n",
    "    if(date < 10):\n",
    "        date = '0' + str(date)\n",
    "    \n",
    "    return year +'-'+ str(month)+'-'+ str(date)"
   ]
  },
  {
   "cell_type": "code",
   "execution_count": null,
   "metadata": {},
   "outputs": [],
   "source": [
    "gen_date_yyyymmdd()"
   ]
  },
  {
   "cell_type": "code",
   "execution_count": null,
   "metadata": {},
   "outputs": [],
   "source": [
    "d1 = datetime.strptime(gen_date_yyyymmdd(), '%Y-%m-%d')\n",
    "print(d1)\n",
    "d2 = datetime.strptime(gen_date_yyyymmdd(), '%Y-%m-%d')\n",
    "print(d2)\n",
    "print(max(d1,d2))\n",
    "print(random_date(min(d1, d2),max(d1, d2)))"
   ]
  },
  {
   "cell_type": "code",
   "execution_count": null,
   "metadata": {},
   "outputs": [],
   "source": []
  },
  {
   "cell_type": "code",
   "execution_count": null,
   "metadata": {},
   "outputs": [],
   "source": [
    "%%time\n",
    "x = 0\n",
    "while x < 10000000:\n",
    "    try:\n",
    "#         print(x)\n",
    "        msisdn = str(gen_random_number_ndigs(10))\n",
    "        grid_lat = str(gen_random_number_ndigs(6)/10000)\n",
    "        grid_lon = str(gen_random_number_ndigs(6)/10000)\n",
    "        grid_name = gen_random_string(2, chars)+'_'+gen_random_string(4, chars)+'_'+grid_lat+'_'+grid_lon\n",
    "        d1 = datetime.strptime(gen_date_yyyymmdd(), '%Y-%m-%d')\n",
    "        d2 = datetime.strptime(gen_date_yyyymmdd(), '%Y-%m-%d')\n",
    "        lower_date = min(d1,d2)\n",
    "#         print(lower_date)\n",
    "        higher_date = max(d1,d2)\n",
    "#         print(higher_date)\n",
    "        start_date = random_date(lower_date,higher_date)\n",
    "#         print(start_date)\n",
    "        end_date = random_date(start_date,higher_date)\n",
    "        provinci = str(gen_random_number_ndigs(1))\n",
    "        kabupaten = provinci+'_'+str(gen_random_number_ndigs(1))\n",
    "        kecamatan = kabupaten+'_'+str(gen_random_number_ndigs(1))\n",
    "        kelurahan = kecamatan+'_'+str(gen_random_number_ndigs(1))\n",
    "\n",
    "        if x == 0:\n",
    "            data = [[msisdn, grid_lat, grid_lon,grid_name,start_date,end_date,provinci,kabupaten,kecamatan,kelurahan]]\n",
    "        else:\n",
    "            y = [msisdn, grid_lat, grid_lon,grid_name,start_date,end_date,provinci,kabupaten,kecamatan,kelurahan]\n",
    "            data.append(y)\n",
    "    except:\n",
    "        continue\n",
    "    \n",
    "    x = x+1"
   ]
  },
  {
   "cell_type": "code",
   "execution_count": null,
   "metadata": {},
   "outputs": [],
   "source": [
    "df = pd.DataFrame(data,columns = ['msisdn', 'grid_lat', 'grid_lon','grid_name','start_date','end_date','provinci','kabupaten','kecamatan','kelurahan'])\n",
    "df"
   ]
  },
  {
   "cell_type": "code",
   "execution_count": null,
   "metadata": {},
   "outputs": [],
   "source": [
    "df.to_csv('C:\\\\tsel\\\\project_mck_dmp\\\\data\\\\external\\\\mobility\\\\01_raw\\\\stay_point_113_dd.csv',index=False)"
   ]
  },
  {
   "cell_type": "code",
   "execution_count": null,
   "metadata": {},
   "outputs": [],
   "source": [
    "imsi\n",
    "home1_lat\n",
    "home1_lon\n",
    "home1_days\n",
    "home1_duration\n",
    "home1_kelurahan_name\n",
    "home1_neighboring_kelurahan_name\n",
    "home1_kecamatan_name\n",
    "home1_kabupaten_name\n",
    "home1_province_name\n"
   ]
  },
  {
   "cell_type": "code",
   "execution_count": null,
   "metadata": {},
   "outputs": [],
   "source": [
    "pwd"
   ]
  },
  {
   "cell_type": "code",
   "execution_count": null,
   "metadata": {},
   "outputs": [],
   "source": []
  }
 ],
 "metadata": {
  "kernelspec": {
   "display_name": "Python 3",
   "language": "python",
   "name": "python3"
  },
  "language_info": {
   "codemirror_mode": {
    "name": "ipython",
    "version": 3
   },
   "file_extension": ".py",
   "mimetype": "text/x-python",
   "name": "python",
   "nbconvert_exporter": "python",
   "pygments_lexer": "ipython3",
   "version": "3.6.10"
  }
 },
 "nbformat": 4,
 "nbformat_minor": 2
}
