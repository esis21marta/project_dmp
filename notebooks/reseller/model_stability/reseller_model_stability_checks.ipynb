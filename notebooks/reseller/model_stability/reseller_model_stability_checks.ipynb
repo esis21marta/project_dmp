{
 "cells": [
  {
   "cell_type": "code",
   "execution_count": null,
   "metadata": {},
   "outputs": [],
   "source": [
    "import pandas as pd\n",
    "import numpy as np\n",
    "from ast import literal_eval"
   ]
  },
  {
   "cell_type": "markdown",
   "metadata": {},
   "source": [
    "## Check model performance across months"
   ]
  },
  {
   "cell_type": "code",
   "execution_count": null,
   "metadata": {},
   "outputs": [],
   "source": [
    "results_dir_fp = '/home/cdsw/project_mck_dmp/data/reseller/07_model_output/single/evaluation'\n",
    "results_jan = pd.read_csv(f'{results_dir_fp}/ra_mck_int_single_model_evaluation_metrics_jan2020.csv')\n",
    "results_feb = pd.read_csv(f'{results_dir_fp}/ra_mck_int_single_model_evaluation_metrics_feb2020.csv')\n",
    "results_mar = pd.read_csv(f'{results_dir_fp}/ra_mck_int_single_model_evaluation_metrics_mar2020.csv')"
   ]
  },
  {
   "cell_type": "code",
   "execution_count": null,
   "metadata": {},
   "outputs": [],
   "source": [
    "results_jan"
   ]
  },
  {
   "cell_type": "code",
   "execution_count": null,
   "metadata": {},
   "outputs": [],
   "source": [
    "results_feb"
   ]
  },
  {
   "cell_type": "code",
   "execution_count": null,
   "metadata": {},
   "outputs": [],
   "source": [
    "results_mar"
   ]
  },
  {
   "cell_type": "markdown",
   "metadata": {},
   "source": [
    "## Check performance percentiles of outlets and cashflows across months"
   ]
  },
  {
   "cell_type": "code",
   "execution_count": null,
   "metadata": {},
   "outputs": [],
   "source": [
    "percentile_dir_fp = '/home/cdsw/project_mck_dmp/data/reseller/07_model_output/single/performance'\n",
    "percentiles_jan = pd.read_csv(f'{percentile_dir_fp}/ra_mck_int_single_model_performance_percentiles_jan2020_7consecutivedayszero.csv')\n",
    "percentiles_feb = pd.read_csv(f'{percentile_dir_fp}/ra_mck_int_single_model_performance_percentiles_feb2020_7consecutivedayszero.csv')\n",
    "percentiles_mar = pd.read_csv(f'{percentile_dir_fp}/ra_mck_int_single_model_performance_percentiles_mar2020_7consecutivedayszero.csv')"
   ]
  },
  {
   "cell_type": "code",
   "execution_count": null,
   "metadata": {},
   "outputs": [],
   "source": [
    "percentiles_jan.head()"
   ]
  },
  {
   "cell_type": "code",
   "execution_count": null,
   "metadata": {},
   "outputs": [],
   "source": [
    "percentiles_feb.head()"
   ]
  },
  {
   "cell_type": "code",
   "execution_count": null,
   "metadata": {},
   "outputs": [],
   "source": [
    "percentiles_mar.head()"
   ]
  },
  {
   "cell_type": "code",
   "execution_count": null,
   "metadata": {},
   "outputs": [],
   "source": [
    "# inner join on outlet_id\n",
    "cols_to_rename = ['ground_truth', 'performance_percentile', 'training_ground_truths_list_length']\n",
    "prepared_jan = percentiles_jan.set_index('outlet_id')[cols_to_rename].rename(lambda name: name + '_1', axis=1)\n",
    "prepared_feb = percentiles_feb.set_index('outlet_id')[cols_to_rename].rename(lambda name: name + '_2', axis=1)\n",
    "prepared_mar = percentiles_mar.set_index('outlet_id')[cols_to_rename].rename(lambda name: name + '_3', axis=1)\n",
    "prepared_joined = pd.concat([prepared_jan, prepared_feb, prepared_mar], join='inner', axis=1).sort_index(axis=1)\n",
    "print(prepared_joined.shape)\n",
    "prepared_joined.head()"
   ]
  },
  {
   "cell_type": "code",
   "execution_count": null,
   "metadata": {},
   "outputs": [],
   "source": [
    "# calculate mean percentile\n",
    "prepared_joined['mean_percentile'] = (\n",
    "    (prepared_joined['performance_percentile_1'] + prepared_joined['performance_percentile_2'] + prepared_joined['performance_percentile_3']) / 3\n",
    ")"
   ]
  },
  {
   "cell_type": "code",
   "execution_count": null,
   "metadata": {},
   "outputs": [],
   "source": [
    "# number of outlets within % difference with mean across months\n",
    "pct = 5\n",
    "prepared_joined['within_pct'] = (\n",
    "    (np.abs(prepared_joined['performance_percentile_1'] - prepared_joined['mean_percentile']) <= pct) & \n",
    "    (np.abs(prepared_joined['performance_percentile_2'] - prepared_joined['mean_percentile']) <= pct) & \n",
    "    (np.abs(prepared_joined['performance_percentile_3'] - prepared_joined['mean_percentile']) <= pct)\n",
    ")\n",
    "\n",
    "prepared_joined.within_pct.value_counts(normalize=True)"
   ]
  },
  {
   "cell_type": "code",
   "execution_count": null,
   "metadata": {},
   "outputs": [],
   "source": [
    "# number of outlets within % difference with mean across months\n",
    "pct = 10\n",
    "prepared_joined['within_pct'] = (\n",
    "    (np.abs(prepared_joined['performance_percentile_1'] - prepared_joined['mean_percentile']) <= pct) & \n",
    "    (np.abs(prepared_joined['performance_percentile_2'] - prepared_joined['mean_percentile']) <= pct) & \n",
    "    (np.abs(prepared_joined['performance_percentile_3'] - prepared_joined['mean_percentile']) <= pct)\n",
    ")\n",
    "\n",
    "prepared_joined.within_pct.value_counts(normalize=True)"
   ]
  },
  {
   "cell_type": "code",
   "execution_count": null,
   "metadata": {},
   "outputs": [],
   "source": [
    "# number of outlets within % difference with mean across months\n",
    "pct = 20\n",
    "prepared_joined['within_pct'] = (\n",
    "    (np.abs(prepared_joined['performance_percentile_1'] - prepared_joined['mean_percentile']) <= pct) & \n",
    "    (np.abs(prepared_joined['performance_percentile_2'] - prepared_joined['mean_percentile']) <= pct) & \n",
    "    (np.abs(prepared_joined['performance_percentile_3'] - prepared_joined['mean_percentile']) <= pct)\n",
    ")\n",
    "\n",
    "prepared_joined.within_pct.value_counts(normalize=True)"
   ]
  },
  {
   "cell_type": "markdown",
   "metadata": {},
   "source": [
    "## Check performance percentiles of outlets and potential gap across months"
   ]
  },
  {
   "cell_type": "code",
   "execution_count": null,
   "metadata": {},
   "outputs": [],
   "source": [
    "percentile_dir_fp = '/home/cdsw/project_mck_dmp/data/reseller/07_model_output/kfold/performance'\n",
    "percentiles_jan = pd.read_csv(f'{percentile_dir_fp}/ra_mck_int_kfold_performance_percentiles_jan2020.csv')\n",
    "percentiles_feb = pd.read_csv(f'{percentile_dir_fp}/ra_mck_int_kfold_performance_percentiles_feb2020.csv')"
   ]
  },
  {
   "cell_type": "code",
   "execution_count": null,
   "metadata": {},
   "outputs": [],
   "source": [
    "percentiles_jan.head()"
   ]
  },
  {
   "cell_type": "code",
   "execution_count": null,
   "metadata": {},
   "outputs": [],
   "source": [
    "percentiles_feb.head()"
   ]
  },
  {
   "cell_type": "code",
   "execution_count": null,
   "metadata": {},
   "outputs": [],
   "source": [
    "# inner join on outlet_id\n",
    "cols_to_rename = ['ground_truth', 'performance_percentile', 'training_ground_truths_list_length', 'training_ground_truths_list']\n",
    "prepared_jan = percentiles_jan.set_index('outlet_id')[cols_to_rename].rename(lambda name: name + '_1', axis=1)\n",
    "prepared_feb = percentiles_feb.set_index('outlet_id')[cols_to_rename].rename(lambda name: name + '_2', axis=1)\n",
    "prepared_joined = pd.concat([prepared_jan, prepared_feb], join='inner', axis=1).sort_index(axis=1)\n",
    "print(prepared_joined.shape)\n",
    "prepared_joined.head()"
   ]
  },
  {
   "cell_type": "code",
   "execution_count": null,
   "metadata": {},
   "outputs": [],
   "source": [
    "# calculate mean percentile\n",
    "prepared_joined['mean_percentile'] = (\n",
    "    (prepared_joined['performance_percentile_1'] + prepared_joined['performance_percentile_2']) / 2\n",
    ")"
   ]
  },
  {
   "cell_type": "code",
   "execution_count": null,
   "metadata": {},
   "outputs": [],
   "source": [
    "# number of outlets within % difference with mean across months\n",
    "pct = 5\n",
    "prepared_joined['within_pct'] = (\n",
    "    (np.abs(prepared_joined['performance_percentile_1'] - prepared_joined['mean_percentile']) <= pct) & \n",
    "    (np.abs(prepared_joined['performance_percentile_2'] - prepared_joined['mean_percentile']) <= pct)\n",
    ")\n",
    "\n",
    "prepared_joined.within_pct.value_counts(normalize=True)"
   ]
  },
  {
   "cell_type": "code",
   "execution_count": null,
   "metadata": {},
   "outputs": [],
   "source": [
    "# number of outlets within % difference with mean across months\n",
    "pct = 10\n",
    "prepared_joined['within_pct'] = (\n",
    "    (np.abs(prepared_joined['performance_percentile_1'] - prepared_joined['mean_percentile']) <= pct) & \n",
    "    (np.abs(prepared_joined['performance_percentile_2'] - prepared_joined['mean_percentile']) <= pct)\n",
    ")\n",
    "prepared_joined.within_pct.value_counts(normalize=True)"
   ]
  },
  {
   "cell_type": "code",
   "execution_count": null,
   "metadata": {},
   "outputs": [],
   "source": [
    "# number of outlets within % difference with mean across months\n",
    "pct = 15\n",
    "prepared_joined['within_pct'] = (\n",
    "    (np.abs(prepared_joined['performance_percentile_1'] - prepared_joined['mean_percentile']) <= pct) & \n",
    "    (np.abs(prepared_joined['performance_percentile_2'] - prepared_joined['mean_percentile']) <= pct)\n",
    ")\n",
    "prepared_joined.within_pct.value_counts(normalize=True)"
   ]
  },
  {
   "cell_type": "code",
   "execution_count": null,
   "metadata": {},
   "outputs": [],
   "source": [
    "# number of outlets within % difference with mean across months\n",
    "pct = 20\n",
    "prepared_joined['within_pct'] = (\n",
    "    (np.abs(prepared_joined['performance_percentile_1'] - prepared_joined['mean_percentile']) <= pct) & \n",
    "    (np.abs(prepared_joined['performance_percentile_2'] - prepared_joined['mean_percentile']) <= pct)\n",
    ")\n",
    "prepared_joined.within_pct.value_counts(normalize=True)"
   ]
  },
  {
   "cell_type": "code",
   "execution_count": null,
   "metadata": {},
   "outputs": [],
   "source": [
    "prepared_joined.head()"
   ]
  },
  {
   "cell_type": "code",
   "execution_count": null,
   "metadata": {},
   "outputs": [],
   "source": [
    "percentiles = [90, 95, 100]\n",
    "print(prepared_joined.shape)\n",
    "sampled = prepared_joined.sample(frac=0.05, random_state=15)\n",
    "print(sampled.shape)\n",
    "\n",
    "# compute 90th percentile, 95 percentile and 100th percentile\n",
    "sampled['training_ground_truths_list_1'] = sampled['training_ground_truths_list_1'].map(literal_eval)\n",
    "sampled['training_ground_truths_list_2'] = sampled['training_ground_truths_list_2'].map(literal_eval)\n",
    "\n",
    "# calculate percentiles cashflows\n",
    "for percentile in percentiles:\n",
    "    sampled[f'{percentile}th_percentile_cashflow_1'] = sampled['training_ground_truths_list_1'].map(lambda lst: np.quantile(lst, percentile/100))\n",
    "    sampled[f'{percentile}th_percentile_cashflow_2'] = sampled['training_ground_truths_list_2'].map(lambda lst: np.quantile(lst, percentile/100))\n",
    "    sampled[f'{percentile}th_percentile_cashflow_diff'] = sampled[f'{percentile}th_percentile_cashflow_2'] - sampled[f'{percentile}th_percentile_cashflow_1']\n",
    "    sampled[f'{percentile}th_percentile_cashflow_diff_pct'] = (100 * sampled[f'{percentile}th_percentile_cashflow_2'] - sampled[f'{percentile}th_percentile_cashflow_1']) / sampled[f'{percentile}th_percentile_cashflow_1']\n",
    "\n",
    "sampled.head()"
   ]
  },
  {
   "cell_type": "code",
   "execution_count": null,
   "metadata": {},
   "outputs": [],
   "source": [
    "sampled.head()"
   ]
  },
  {
   "cell_type": "code",
   "execution_count": null,
   "metadata": {},
   "outputs": [],
   "source": [
    "sampled['100th_percentile_cashflow_diff'].describe()"
   ]
  },
  {
   "cell_type": "code",
   "execution_count": null,
   "metadata": {},
   "outputs": [],
   "source": [
    "for i in range(5, 100, 5):\n",
    "    print(f\"{i} percentile: {sampled['100th_percentile_cashflow_diff'].quantile(i/100)}\")"
   ]
  },
  {
   "cell_type": "code",
   "execution_count": null,
   "metadata": {},
   "outputs": [],
   "source": [
    "# distribution of potential gap of same outlet month to month, should be a normal-like distribution centered around 0\n",
    "sampled['100th_percentile_cashflow_diff'].hist()"
   ]
  },
  {
   "cell_type": "code",
   "execution_count": null,
   "metadata": {},
   "outputs": [],
   "source": [
    "sampled['100th_percentile_cashflow_diff_pct'].describe()"
   ]
  },
  {
   "cell_type": "code",
   "execution_count": null,
   "metadata": {},
   "outputs": [],
   "source": [
    "for i in range(5, 100, 5):\n",
    "    print(f\"{i} percentile: {sampled['100th_percentile_cashflow_diff_pct'].quantile(i/100)}\")"
   ]
  }
 ],
 "metadata": {
  "kernelspec": {
   "display_name": "Python 3",
   "language": "python",
   "name": "python3"
  },
  "language_info": {
   "codemirror_mode": {
    "name": "ipython",
    "version": 3
   },
   "file_extension": ".py",
   "mimetype": "text/x-python",
   "name": "python",
   "nbconvert_exporter": "python",
   "pygments_lexer": "ipython3",
   "version": "3.6.8"
  }
 },
 "nbformat": 4,
 "nbformat_minor": 4
}
