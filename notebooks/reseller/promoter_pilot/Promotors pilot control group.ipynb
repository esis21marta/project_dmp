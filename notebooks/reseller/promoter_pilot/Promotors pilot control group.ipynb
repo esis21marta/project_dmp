{
 "cells": [
  {
   "cell_type": "code",
   "execution_count": null,
   "metadata": {},
   "outputs": [],
   "source": [
    "%matplotlib inline\n",
    "import math\n",
    "import numpy as np\n",
    "import pandas as pd\n",
    "import sklearn\n",
    "from sklearn.model_selection import train_test_split\n",
    "from sklearn.metrics import r2_score\n",
    "import statsmodels.api as sm\n",
    "import seaborn as sns\n",
    "import math as math\n",
    "import matplotlib.pyplot as plt\n",
    "import seaborn as sns\n",
    "#import statsmodels.formula.api as smf\n",
    "#from statsmodels.regression.quantile_regression import QuantReg"
   ]
  },
  {
   "cell_type": "code",
   "execution_count": null,
   "metadata": {},
   "outputs": [],
   "source": [
    "import pyspark\n",
    "import numpy as np\n",
    "import pandas as pd\n",
    "from pyspark import SparkContext\n",
    "from pyspark.sql import SparkSession\n",
    "from pyspark.conf import SparkConf\n",
    "from pyspark.sql import types, functions as F"
   ]
  },
  {
   "cell_type": "code",
   "execution_count": null,
   "metadata": {},
   "outputs": [],
   "source": [
    "# random seed for reproducibility\n",
    "RANDOM_SEED = 15\n",
    "\n",
    "# pandas settings\n",
    "pd.set_option('display.max_rows',1000)\n",
    "pd.set_option('display.max.columns',2500)\n",
    "pd.set_option('max_colwidth',200)\n",
    "\n",
    "# disable auto-closing brackets and quotes\n",
    "from notebook.services.config import ConfigManager\n",
    "c = ConfigManager()\n",
    "c.update('notebook', {\"CodeCell\": {\"cm_config\": {\"autoCloseBrackets\": False}}})\n",
    "app_name = 'reseller_master_latlong'"
   ]
  },
  {
   "cell_type": "code",
   "execution_count": null,
   "metadata": {},
   "outputs": [],
   "source": [
    "conf = (SparkConf()\n",
    "         .setMaster('yarn-client')\n",
    "         .setAppName(app_name)\n",
    "         .set(\"spark.yarn.queue\", \"root.hue_dmp\")\n",
    "         .set(\"spark.executor.memory\", \"16G\")\n",
    "         .set(\"spark.executor.cores\",\"4\")\n",
    "         .set(\"spark.driver.memory\", \"16G\")\n",
    "         .set(\"spark.default.parallelism\", \"8\")\n",
    "         .set(\"spark.sql.shuffle.partitions\", \"1000\")\n",
    "         .set(\"spark.shuffle.service.enabled\", \"true\")\n",
    "         .set(\"spark.dynamicAllocation.enabled\", \"true\")\n",
    "         .set(\"spark.dynamicAllocation.minExecutors\", \"1\")\n",
    "         .set(\"spark.dynamicAllocation.maxExecutors\", \"20\")\n",
    "         .set(\"spark.dynamicAllocation.initialExecutors\", \"1\")\n",
    "         .set(\"spark.yarn.maxAppAttempts\", \"2\")\n",
    "         .set(\"spark.sql.parquet.compression.codec\", \"snappy\")\n",
    "         .set(\"spark.sql.parquet.binaryAsString\", \"true\")\n",
    "         .set(\"spark.driver.memoryOverhead\", \"4096\")\n",
    "         .set(\"spark.yarn.driver.memoryOverhead\", \"4096\")\n",
    "         .set(\"spark.yarn.executor.memoryOverhead\", \"4096\")\n",
    "         .set(\"spark.executor.heartbeatInterval\", \"20s\")\n",
    "         .set(\"spark.network.timeout\", \"800s\")\n",
    "         .set(\"spark.sql.broadcastTimeout\", \"1200\")\n",
    "         .set(\"spark.sql.hive.convertMetastoreParquet\", \"false\")\n",
    "         .set(\"yarn.nodemanager.vmem-check-enabled\", \"false\")\n",
    "         .set(\"spark.default.parallelism\", \"8\")\n",
    "         .set(\"spark.sql.shuffle.partitions\", \"1000\")\n",
    "         .set(\"spark.driver.memory\", \"16G\")\n",
    "         .set(\"spark.testing.memory\", \"2147480000\")\n",
    "         .set(\"spark.sql.hive.verifyPartitionPath\", \"false\")\n",
    "         .set(\"spark.driver.maxResultSize\", \"0\")\n",
    "         .set(\"spark.sql.autoBroadcastJoinThreshold\", 400*1024*1024)\n",
    "         .set(\"yarn.nodemanager.vmem-check-enabled\",\"false\")\n",
    "         .set(\"spark.hadoop.fs.permissions.umask-mode\",\"002\")\n",
    "         )"
   ]
  },
  {
   "cell_type": "code",
   "execution_count": null,
   "metadata": {},
   "outputs": [],
   "source": [
    "sc = SparkContext.getOrCreate(conf=conf)\n",
    "spark = SparkSession(sc)\n",
    "table = 'dmp_remote.outlet_dim_dd'\n",
    "source_df = spark.sql(\n",
    "    f\"\"\"\n",
    "        SELECT DISTINCT\n",
    "            outlet_id,\n",
    "            regional\n",
    "        FROM {table}\n",
    "        WHERE\n",
    "            load_date BETWEEN '2020-01-01' AND '2020-01-31'\n",
    "    \"\"\"\n",
    ").toPandas()"
   ]
  },
  {
   "cell_type": "code",
   "execution_count": null,
   "metadata": {},
   "outputs": [],
   "source": [
    "aa = source_df\n",
    "#source_df = aa\n",
    "source_df.head()"
   ]
  },
  {
   "cell_type": "code",
   "execution_count": null,
   "metadata": {},
   "outputs": [],
   "source": [
    "source_df['outlet_id'] = source_df['outlet_id'].astype('int64')\n",
    "source_df['regional'] = source_df['regional'].astype('string')\n",
    "source_df.dtypes\n",
    "len(source_df)"
   ]
  },
  {
   "cell_type": "code",
   "execution_count": null,
   "metadata": {},
   "outputs": [],
   "source": [
    "master_df = pd.read_csv('../../../data/reseller/05_model_input/master_table/ra_master_table.csv')"
   ]
  },
  {
   "cell_type": "code",
   "execution_count": null,
   "metadata": {},
   "outputs": [],
   "source": [
    "main_features = ['outlet_id',\n",
    "                 'fea_outlet_string_type',\n",
    "                 'fea_outlet_string_classification',\n",
    "                 'fea_outlet_decimal_total_cashflow_mkios_mean']"
   ]
  },
  {
   "cell_type": "code",
   "execution_count": null,
   "metadata": {},
   "outputs": [],
   "source": [
    "master_relevant_df = master_df.loc[:,main_features]\n",
    "master_relevant_df.head()"
   ]
  },
  {
   "cell_type": "code",
   "execution_count": null,
   "metadata": {},
   "outputs": [],
   "source": [
    "len(master_relevant_df)"
   ]
  },
  {
   "cell_type": "code",
   "execution_count": null,
   "metadata": {},
   "outputs": [],
   "source": [
    "master_relevant_2_df = master_relevant_df.join(source_df.set_index('outlet_id'), on='outlet_id')\n",
    "master_relevant_2_df.head()"
   ]
  },
  {
   "cell_type": "code",
   "execution_count": null,
   "metadata": {},
   "outputs": [],
   "source": [
    "len(master_relevant_2_df)"
   ]
  },
  {
   "cell_type": "code",
   "execution_count": null,
   "metadata": {},
   "outputs": [],
   "source": [
    "test_group = pd.read_csv('Promotors pilot control group.csv')\n",
    "#test_group.describe()\n",
    "test_group.rename(columns={'Outlet Id':'outlet_id'},inplace=True)\n",
    "len(test_group)\n",
    "test_group.head()"
   ]
  },
  {
   "cell_type": "code",
   "execution_count": null,
   "metadata": {},
   "outputs": [],
   "source": [
    "test_group = test_group.join(master_relevant_2_df.set_index('outlet_id'), on='outlet_id')\n",
    "test_group = test_group.dropna()\n",
    "test_group = test_group.drop_duplicates()\n",
    "test_group"
   ]
  },
  {
   "cell_type": "code",
   "execution_count": null,
   "metadata": {},
   "outputs": [],
   "source": [
    "test_group_outlets = list(test_group.outlet_id.unique())\n",
    "len(test_group_outlets)"
   ]
  },
  {
   "cell_type": "code",
   "execution_count": null,
   "metadata": {},
   "outputs": [],
   "source": [
    "unique_type = list(test_group.fea_outlet_string_type.unique())\n",
    "unique_type"
   ]
  },
  {
   "cell_type": "code",
   "execution_count": null,
   "metadata": {},
   "outputs": [],
   "source": [
    "unique_class = list(test_group.fea_outlet_string_classification.unique())\n",
    "unique_class"
   ]
  },
  {
   "cell_type": "code",
   "execution_count": null,
   "metadata": {},
   "outputs": [],
   "source": [
    "unique_regions = list(test_group.regional.unique())\n",
    "unique_regions"
   ]
  },
  {
   "cell_type": "code",
   "execution_count": null,
   "metadata": {},
   "outputs": [],
   "source": [
    "master_relevant_3_df = master_relevant_2_df[~master_relevant_2_df['outlet_id'].isin(test_group_outlets)]\n",
    "len(master_relevant_3_df)"
   ]
  },
  {
   "cell_type": "code",
   "execution_count": null,
   "metadata": {},
   "outputs": [],
   "source": [
    "master_relevant_4_df = master_relevant_3_df[master_relevant_3_df['fea_outlet_string_type'].isin(unique_type)]\n",
    "len(master_relevant_4_df)"
   ]
  },
  {
   "cell_type": "code",
   "execution_count": null,
   "metadata": {},
   "outputs": [],
   "source": [
    "master_relevant_5_df = master_relevant_4_df[master_relevant_4_df['fea_outlet_string_classification'].isin(unique_class)]\n",
    "len(master_relevant_5_df)\n",
    "master_relevant_5_df.head()"
   ]
  },
  {
   "cell_type": "code",
   "execution_count": null,
   "metadata": {},
   "outputs": [],
   "source": [
    "master_table_unique_combinations = master_relevant_5_df.iloc[:,1:4].drop_duplicates()\n",
    "len(master_table_unique_combinations)"
   ]
  },
  {
   "cell_type": "code",
   "execution_count": null,
   "metadata": {},
   "outputs": [],
   "source": [
    "test_group.dtypes\n",
    "#master_relevant_5_df.dtypes"
   ]
  },
  {
   "cell_type": "code",
   "execution_count": null,
   "metadata": {},
   "outputs": [],
   "source": [
    "#test_group['outlet_id'] = test_group['outlet_id'].astype('string')\n",
    "test_group['fea_outlet_string_type'] = test_group['fea_outlet_string_type'].astype('string')\n",
    "test_group['fea_outlet_string_classification'] = test_group['fea_outlet_string_classification'].astype('string')\n",
    "#master_relevant_5_df['outlet_id'] = master_relevant_5_df['outlet_id'].astype('string')\n",
    "master_relevant_5_df['fea_outlet_string_type'] = master_relevant_5_df['fea_outlet_string_type'].astype('string')\n",
    "master_relevant_5_df['fea_outlet_string_classification'] = master_relevant_5_df['fea_outlet_string_classification'].astype('string')\n",
    "test_group.dtypes\n",
    "#master_relevant_5_df.dtypes"
   ]
  },
  {
   "cell_type": "code",
   "execution_count": null,
   "metadata": {},
   "outputs": [],
   "source": [
    "test_group = test_group.reset_index(drop=True)\n",
    "master_relevant_5_df = master_relevant_5_df.reset_index(drop=True)\n",
    "\n",
    "test_group = test_group.dropna()\n",
    "master_relevant_5_df = master_relevant_5_df.dropna()\n",
    "master_relevant_5_df.head()"
   ]
  },
  {
   "cell_type": "code",
   "execution_count": null,
   "metadata": {},
   "outputs": [],
   "source": [
    "test_group['twin_id'] = -1\n",
    "test_group['twin_fea_outlet_decimal_total_cashflow_mkios_mean'] = -1\n",
    "twin_id = []\n",
    "#for i in range(0,3):\n",
    "for i in range(0,len(test_group)):\n",
    "    if i % 100 == 0:\n",
    "        print(i)\n",
    "    outlet_type  = test_group['fea_outlet_string_type'].iloc[i]\n",
    "    outlet_class = test_group['fea_outlet_string_classification'].iloc[i]\n",
    "    region       = test_group['regional'].iloc[i]\n",
    "    \n",
    "    flag = 0\n",
    "    j = 0\n",
    "    while flag == 0:\n",
    "        if master_relevant_5_df['outlet_id'].iloc[j] not in twin_id and master_relevant_5_df['fea_outlet_string_type'].iloc[j] == outlet_type and master_relevant_5_df['fea_outlet_string_classification'].iloc[j] == outlet_class and master_relevant_5_df['regional'].iloc[j] == region:\n",
    "            test_group.at[i,'twin_id'] = master_relevant_5_df['outlet_id'].iloc[j]\n",
    "            test_group.at[i,'twin_fea_outlet_decimal_total_cashflow_mkios_mean'] = master_relevant_5_df['fea_outlet_decimal_total_cashflow_mkios_mean'].iloc[j]\n",
    "            twin_id.append(test_group['twin_id'].iloc[i])\n",
    "            flag = 1\n",
    "        j += 1"
   ]
  },
  {
   "cell_type": "code",
   "execution_count": null,
   "metadata": {},
   "outputs": [],
   "source": [
    "test_group.to_csv('Promotor pilot control group twin ids.csv')\n",
    "test_group.to_csv('Promotor pilot control group twin ids.txt')\n",
    "#master_relevant_5_df.head()"
   ]
  },
  {
   "cell_type": "code",
   "execution_count": null,
   "metadata": {},
   "outputs": [],
   "source": []
  }
 ],
 "metadata": {
  "kernelspec": {
   "display_name": "Python 3",
   "language": "python",
   "name": "python3"
  },
  "language_info": {
   "codemirror_mode": {
    "name": "ipython",
    "version": 3
   },
   "file_extension": ".py",
   "mimetype": "text/x-python",
   "name": "python",
   "nbconvert_exporter": "python",
   "pygments_lexer": "ipython3",
   "version": "3.6.8"
  }
 },
 "nbformat": 4,
 "nbformat_minor": 4
}
