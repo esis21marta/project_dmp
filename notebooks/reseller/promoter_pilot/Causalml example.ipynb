{
 "cells": [
  {
   "cell_type": "code",
   "execution_count": null,
   "metadata": {},
   "outputs": [],
   "source": [
    "from causalml.dataset import synthetic_data\n",
    "import pandas as pd\n",
    "import numpy as np"
   ]
  },
  {
   "cell_type": "code",
   "execution_count": null,
   "metadata": {},
   "outputs": [],
   "source": [
    "y, X, treatment, tau, b, e = synthetic_data(mode=2, n=1000, p=5, sigma=1.0)\n",
    "\n",
    "data = pd.concat([\n",
    "    pd.DataFrame({\"y\": y, \"treatment\": treatment}),\n",
    "    pd.DataFrame(X, columns=[\"X1\", \"X2\", \"X3\", \"X4\", \"X5\"])],\n",
    "    axis = 1\n",
    ")\n",
    "data"
   ]
  },
  {
   "cell_type": "code",
   "execution_count": null,
   "metadata": {},
   "outputs": [],
   "source": [
    "from src.sample_sizing import sample_t_test\n",
    "\n",
    "print(sample_t_test.__doc__)"
   ]
  },
  {
   "cell_type": "code",
   "execution_count": null,
   "metadata": {},
   "outputs": [],
   "source": [
    "from src.sample_sizing import sample_binary\n",
    "\n",
    "print(sample_binary.__doc__)"
   ]
  },
  {
   "cell_type": "code",
   "execution_count": null,
   "metadata": {},
   "outputs": [],
   "source": [
    "from causalml.inference.meta import BaseTRegressor\n",
    "\n",
    "from xgboost import XGBRegressor\n",
    "\n",
    "from causalml.inference.meta import XGBTRegressor"
   ]
  },
  {
   "cell_type": "code",
   "execution_count": null,
   "metadata": {},
   "outputs": [],
   "source": [
    "xgb_tlearner = BaseTRegressor(learner=XGBRegressor(random_state=42))\n",
    "\n",
    "xgb_tlearner.fit(X=X, y=y, treatment=treatment)"
   ]
  },
  {
   "cell_type": "code",
   "execution_count": null,
   "metadata": {},
   "outputs": [],
   "source": [
    "xgb_tlearner"
   ]
  },
  {
   "cell_type": "code",
   "execution_count": null,
   "metadata": {},
   "outputs": [],
   "source": [
    "xgb_tlearner.predict(X=X).shape"
   ]
  },
  {
   "cell_type": "code",
   "execution_count": null,
   "metadata": {},
   "outputs": [],
   "source": [
    "uplift, outcome_c, outcome_t = xgb_tlearner.predict(X=X, return_components=True)"
   ]
  },
  {
   "cell_type": "code",
   "execution_count": null,
   "metadata": {},
   "outputs": [],
   "source": [
    "import pandas as pd\n",
    "from sklearn.model_selection import train_test_split\n",
    "from causalml.metrics import plot\n",
    "\n",
    "y_train, y_test, X_train, X_test,\\\n",
    "treatment_train, treatment_test,\\\n",
    "e_train, e_test, tau_train, tau_test = train_test_split(y, X, \n",
    "                                                        treatment,e,\n",
    "                                                        tau,\n",
    "                                                        test_size=0.2, \n",
    "                                                        random_state=42)\n",
    "\n",
    "## Training T-learner on train\n",
    "learner_t = XGBTRegressor()\n",
    "learner_t.fit(X=X_train, treatment=treatment_train, y=y_train)\n",
    "\n",
    "## Get predictions, on the test set\n",
    "t_pred = learner_t.predict(X=X_test)\n",
    "\n",
    "## Aggregating everything on a dataframe\n",
    "df = pd.DataFrame({'y': y_test,\n",
    "                   'w': treatment_test,\n",
    "                   'T-Learner': t_pred.reshape(-1), \n",
    "                   'Actual': tau_test\n",
    "                  })"
   ]
  },
  {
   "cell_type": "code",
   "execution_count": null,
   "metadata": {},
   "outputs": [],
   "source": [
    "## Plotting the 3 types of uplift curve. \n",
    "## If `treatment_effect_col` is provided (the true uplift) it uses that to \n",
    "## order the population by the highest score. Otherwise it uses the Treatment score.\n",
    "plot(df,kind='qini', outcome_col='y', treatment_col='w',figsize=(10, 3.3))"
   ]
  },
  {
   "cell_type": "code",
   "execution_count": null,
   "metadata": {},
   "outputs": [],
   "source": [
    "from causalml.metrics import auuc_score, qini_score\n",
    "print('AUUC:\\n',auuc_score(df))\n",
    "\n",
    "print('\\nQINI Score\\n',qini_score(df))"
   ]
  },
  {
   "cell_type": "code",
   "execution_count": null,
   "metadata": {},
   "outputs": [],
   "source": [
    "df = pd.DataFrame({'y': y_test,\n",
    "                   'w': treatment_test,\n",
    "                   'T-Learner': t_pred.reshape(-1), \n",
    "                   'Actual': tau_test,\n",
    "                   'Actual_show': tau_test\n",
    "                  })\n",
    "\n",
    "plot(df,kind='qini', outcome_col='y', treatment_col='w',figsize=(10, 3.3), treatment_effect_col='Actual')"
   ]
  },
  {
   "cell_type": "code",
   "execution_count": null,
   "metadata": {},
   "outputs": [],
   "source": [
    "print('AUUC:\\n',auuc_score(df, treatment_effect_col='Actual'))\n",
    "\n",
    "print('\\nQINI Score\\n',qini_score(df, treatment_effect_col='Actual'))"
   ]
  },
  {
   "cell_type": "code",
   "execution_count": null,
   "metadata": {},
   "outputs": [],
   "source": [
    "from src.uplift_modelling import evaluate_treatment_control_split\n",
    "from sklearn.ensemble import RandomForestClassifier\n",
    "\n",
    "evaluate_treatment_control_split(X, treatment, model=RandomForestClassifier(n_estimators=100))"
   ]
  },
  {
   "cell_type": "code",
   "execution_count": null,
   "metadata": {},
   "outputs": [],
   "source": [
    "from sklearn.metrics import r2_score\n",
    "from src.uplift_modelling import evaluate_treatment_control_outcome"
   ]
  },
  {
   "cell_type": "code",
   "execution_count": null,
   "metadata": {},
   "outputs": [],
   "source": [
    "evaluate_treatment_control_outcome(model = learner_t,\n",
    "                                   x_data = X_test,\n",
    "                                   y_data = y_test,\n",
    "                                   treatment = treatment_test,\n",
    "                                   metric_func= r2_score)"
   ]
  },
  {
   "cell_type": "code",
   "execution_count": null,
   "metadata": {},
   "outputs": [],
   "source": [
    "from src.uplift_modelling import run_cross_validate\n",
    "\n",
    "run_cross_validate(model = BaseTRegressor(learner=XGBRegressor(random_state=42)),\n",
    "                   metric_func = auuc_score,\n",
    "                   x_data = X,\n",
    "                   y_data = y,\n",
    "                   treatment = treatment,\n",
    "                   n_splits = 5,\n",
    "                   rnd_seed = 42)\n"
   ]
  },
  {
   "cell_type": "code",
   "execution_count": null,
   "metadata": {},
   "outputs": [],
   "source": [
    "import shap\n",
    "from sklearn.ensemble import RandomForestRegressor\n",
    "#raw SHAP values\n",
    "shap_values = learner_t.get_shap_values(X=X_test,\n",
    "                                        tau=learner_t.predict(X_test),\n",
    "                                        #we may specify the exact model to be used as additonal one\n",
    "                                        model_tau_feature = RandomForestRegressor(n_estimators=100))\n",
    "shap_values"
   ]
  },
  {
   "cell_type": "code",
   "execution_count": null,
   "metadata": {},
   "outputs": [],
   "source": [
    "#SHAP importance plot\n",
    "learner_t.plot_shap_values(X=X_test, tau=learner_t.predict(X_test))"
   ]
  },
  {
   "cell_type": "code",
   "execution_count": null,
   "metadata": {},
   "outputs": [],
   "source": [
    "# interaction_idx set to None (no color coding for interaction effects)\n",
    "learner_t.plot_shap_dependence(treatment_group=1, #for treatment_group parameter we use 1\n",
    "                               # as this is coding we used for determinig treamtent value in input `treatment` vector\n",
    "                               # for uplift modelling\n",
    "                              feature_idx=1,\n",
    "                              X=X_test,\n",
    "                              tau=learner_t.predict(X_test),\n",
    "                              interaction_idx=2)"
   ]
  },
  {
   "cell_type": "code",
   "execution_count": null,
   "metadata": {},
   "outputs": [],
   "source": [
    "from src.uplift_modelling import get_shap_input\n",
    "\n",
    "explainer, shap_values = get_shap_input(learner_t, x_data=X_test, uplift_learner=RandomForestRegressor(n_estimators=100))"
   ]
  },
  {
   "cell_type": "code",
   "execution_count": null,
   "metadata": {},
   "outputs": [],
   "source": [
    "shap.initjs()\n",
    "\n",
    "shap.force_plot(explainer.expected_value, shap_values[0,:], X_test[0,:])"
   ]
  },
  {
   "cell_type": "code",
   "execution_count": null,
   "metadata": {},
   "outputs": [],
   "source": [
    "shap.force_plot(explainer.expected_value, shap_values, X_test)"
   ]
  },
  {
   "cell_type": "code",
   "execution_count": null,
   "metadata": {},
   "outputs": [],
   "source": [
    "learner_t.get_importance(X=X_test, tau=learner_t.predict(X_test))"
   ]
  },
  {
   "cell_type": "code",
   "execution_count": null,
   "metadata": {},
   "outputs": [],
   "source": [
    "learner_t.plot_importance(X=X_test,\n",
    "                          tau=learner_t.predict(X_test),\n",
    "                          model_tau_feature=RandomForestRegressor(n_estimators=100))"
   ]
  },
  {
   "cell_type": "code",
   "execution_count": null,
   "metadata": {},
   "outputs": [],
   "source": [
    "from causalml.dataset import make_uplift_classification\n",
    "from causalml.inference.tree import UpliftTreeClassifier, UpliftRandomForestClassifier\n",
    "from causalml.inference.tree import uplift_tree_string, uplift_tree_plot\n",
    "from IPython.display import Image\n",
    "\n",
    "df, x_names = make_uplift_classification()\n",
    "\n",
    "uplift_model = UpliftTreeClassifier(max_depth = 4,\n",
    "                                    min_samples_leaf = 200,\n",
    "                                    min_samples_treatment = 50,\n",
    "                                    n_reg = 100,\n",
    "                                    evaluationFunction='KL',\n",
    "                                    control_name='control')\n",
    "\n",
    "uplift_model.fit(df.iloc[:,1:20].values,\n",
    "                 treatment=df['treatment_group_key'].values,\n",
    "                 y=df['conversion'].values)\n",
    "\n",
    "graph = uplift_tree_plot(uplift_model.fitted_uplift_tree,x_names)"
   ]
  },
  {
   "cell_type": "code",
   "execution_count": null,
   "metadata": {},
   "outputs": [],
   "source": [
    "Image(graph.create_png())"
   ]
  },
  {
   "cell_type": "code",
   "execution_count": null,
   "metadata": {},
   "outputs": [],
   "source": []
  },
  {
   "cell_type": "code",
   "execution_count": null,
   "metadata": {},
   "outputs": [],
   "source": []
  },
  {
   "cell_type": "code",
   "execution_count": null,
   "metadata": {},
   "outputs": [],
   "source": []
  },
  {
   "cell_type": "code",
   "execution_count": null,
   "metadata": {},
   "outputs": [],
   "source": []
  },
  {
   "cell_type": "code",
   "execution_count": null,
   "metadata": {},
   "outputs": [],
   "source": []
  }
 ],
 "metadata": {
  "kernelspec": {
   "display_name": "Python 3",
   "language": "python",
   "name": "python3"
  },
  "language_info": {
   "codemirror_mode": {
    "name": "ipython",
    "version": 3
   },
   "file_extension": ".py",
   "mimetype": "text/x-python",
   "name": "python",
   "nbconvert_exporter": "python",
   "pygments_lexer": "ipython3",
   "version": "3.6.8"
  }
 },
 "nbformat": 4,
 "nbformat_minor": 4
}
