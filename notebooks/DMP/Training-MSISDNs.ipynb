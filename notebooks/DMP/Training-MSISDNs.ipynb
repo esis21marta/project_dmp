{
 "cells": [
  {
   "cell_type": "code",
   "execution_count": null,
   "metadata": {},
   "outputs": [],
   "source": [
    "from datetime import datetime, timedelta\n",
    "\n",
    "import pyspark\n",
    "import pyspark.sql.functions as f\n",
    "import pyspark.sql.types as t\n",
    "from IPython.core.interactiveshell import InteractiveShell\n",
    "from pyspark import SparkContext, SparkConf\n",
    "from pyspark.sql import SparkSession\n",
    "from pyspark.sql.window import Window"
   ]
  },
  {
   "cell_type": "code",
   "execution_count": null,
   "metadata": {},
   "outputs": [],
   "source": [
    "InteractiveShell.ast_node_interactivity = \"all\""
   ]
  },
  {
   "cell_type": "code",
   "execution_count": null,
   "metadata": {},
   "outputs": [],
   "source": [
    "%%time\n",
    "conf = (SparkConf()\n",
    "        .setMaster('yarn-client')\n",
    "        .setAppName('all-msisdns')\n",
    "        .set(\"spark.driver.maxResultSize\", \"10g\")\n",
    "        .set(\"spark.driver.memory\", \"16g\")\n",
    "        .set(\"spark.driver.memoryOverhead\", \"4096\")\n",
    "        .set(\"spark.dynamicAllocation.enabled\", \"true\")\n",
    "        .set(\"spark.dynamicAllocation.initialExecutors\", \"1\")\n",
    "        .set(\"spark.dynamicAllocation.maxExecutors\", \"50\")\n",
    "        .set(\"spark.dynamicAllocation.minExecutors\", \"15\")\n",
    "        .set(\"spark.executor.cores\", \"4\")\n",
    "        .set(\"spark.executor.memory\", \"16g\")\n",
    "        .set(\"spark.hadoop.fs.permissions.umask-mode\", \"002\")\n",
    "        .set(\"spark.kryoserializer.buffer.max\", \"512m\")\n",
    "        .set(\"spark.shuffle.service.enabled\", \"true\")\n",
    "        .set(\"spark.sql.broadcastTimeout\", \"1000\")\n",
    "        .set(\"spark.sql.hive.convertMetastoreParquet\", \"false\")\n",
    "        .set(\"spark.sql.parquet.compression.codec\", \"snappy\")\n",
    "        .set(\"spark.sql.shuffle.partitions\", \"1000\")\n",
    "        .set(\"spark.sql.sources.partitionOverwriteMode\", \"dynamic\")\n",
    "        .set(\"spark.yarn.driver.memoryOverhead\", \"4096\")\n",
    "        .set(\"spark.yarn.executor.memoryOverhead\", \"4096\")\n",
    "        .set(\"spark.yarn.maxAppAttempts\", \"2\")\n",
    "        .set(\"spark.yarn.queue\", \"root.hue_dmp_prod\")\n",
    "        .set(\"yarn.nodemanager.vmem-check-enabled\", \"false\")\n",
    "        )\n",
    "sc = SparkContext.getOrCreate(conf=conf)\n",
    "spark = SparkSession(sc)"
   ]
  },
  {
   "cell_type": "markdown",
   "metadata": {},
   "source": [
    "# Kredivo MSISDNs"
   ]
  },
  {
   "cell_type": "code",
   "execution_count": null,
   "metadata": {},
   "outputs": [],
   "source": [
    "# Kredivo Original MSISDNs\n",
    "kredivo = 'mck.kr_badflags_sample_20200106'\n",
    "df_kredivo = spark.read.table(kredivo).select(\"msisdn\")\n",
    "# Add Category\n",
    "df_kredivo = df_kredivo.withColumn(\"category\", f.lit(\"kredivo\"))\n",
    "\n",
    "# Kredivo Lookalike MSISDNs\n",
    "kredivo_lookalike = \"mck.kr_random_lookalike_20200121\"\n",
    "df_kredivo_lookalike = spark.read.table(kredivo_lookalike).select(\"msisdn\")\n",
    "# Add Category\n",
    "df_kredivo_lookalike = df_kredivo_lookalike.withColumn(\"category\", f.lit(\"kredivo-lookalike\"))\n",
    "\n",
    "# Kredivo Test MSISDNs\n",
    "kredivo_test = \"mck.kr_ts_sample_20200113\"\n",
    "df_kredivo_test = spark.read.table(kredivo_test).select(\"msisdn\")\n",
    "# Add Category\n",
    "df_kredivo_test = df_kredivo_test.withColumn(\"category\", f.lit(\"kredivo-test\"))\n"
   ]
  },
  {
   "cell_type": "markdown",
   "metadata": {},
   "source": [
    "# Internal MSISNDs"
   ]
  },
  {
   "cell_type": "code",
   "execution_count": null,
   "metadata": {},
   "outputs": [],
   "source": [
    "internal_1 = \"mck.mck_int_random_sample\"\n",
    "internal_2 = \"mck.int_mck_hvc\"\n",
    "internal_3 = \"hdfs:///data/landing/gx_pnt/mck_dmp_int/02_intermediate/msisdns_new_campaigns.parquet\"\n",
    "internal_4 = \"hdfs:///data/landing/gx_pnt/mck_dmp_int/02_intermediate/msisdns_old_campaign.parquet\"\n",
    "internal_5 = \"mck.cb_prepaid_postpaid_201910_ucg_samples\"\n",
    "\n",
    "\n",
    "df_int_1 = spark.read.table(internal_1).select(\"msisdn\")\n",
    "df_int_1 = df_int_1.withColumn(\"category\", f.lit(\"internal-random-sample\"))\n",
    "\n",
    "df_int_2 = spark.read.table(internal_2).select(\"msisdn\", \"category\")\n",
    "\n",
    "df_int_3 = spark.read.parquet(internal_3).select(\"msisdn\", \"cmp_code\")\n",
    "df_int_3 = df_int_3.withColumn(\"category\", f.concat(f.lit(\"internal_\"), f.col(\"cmp_code\"))).select(\"msisdn\", \"category\")\n",
    "\n",
    "df_int_4 = spark.read.parquet(internal_4).select(\"msisdn\", \"category\")\n",
    "\n",
    "df_int_5 = spark.read.table(internal_5).select(\"msisdn\", \"ucg\")\n",
    "df_int_5 = df_int_5.withColumn(\"category\", f.concat(f.lit(\"internal_ucg_\"), f.col(\"ucg\"))).select('msisdn', 'category')\n"
   ]
  },
  {
   "cell_type": "markdown",
   "metadata": {},
   "source": [
    "# All Training MSISDNs"
   ]
  },
  {
   "cell_type": "code",
   "execution_count": null,
   "metadata": {},
   "outputs": [],
   "source": [
    "# Union of all the Training MSISDNs\n",
    "df_msisdn = df_kredivo.union(df_kredivo_lookalike).union(df_kredivo_test).union(df_int_1).union(df_int_2).union(df_int_3).union(df_int_4).union(df_int_5)\n",
    "\n",
    "# Aggregating Categories for the MSISDNs\n",
    "df_partner_msisdn = df_msisdn.groupBy(\"msisdn\").agg(f.collect_set(f.col(\"category\")).alias(\"category\"))"
   ]
  },
  {
   "cell_type": "code",
   "execution_count": null,
   "metadata": {},
   "outputs": [],
   "source": [
    "partner_path = \"hdfs:///data/landing/gx_pnt/mck_dmp_training/02_primary/partner_msisdns.parquet\"\n",
    "df_partner_msisdn.coalesce(1).write.mode(\"overwrite\").parquet(partner_path)"
   ]
  },
  {
   "cell_type": "code",
   "execution_count": null,
   "metadata": {},
   "outputs": [],
   "source": [
    "df_msisdn.groupBy(\"category\").count().show(1000, False)"
   ]
  }
 ],
 "metadata": {
  "kernelspec": {
   "display_name": "Python 3",
   "language": "python",
   "name": "python3"
  },
  "language_info": {
   "codemirror_mode": {
    "name": "ipython",
    "version": 3
   },
   "file_extension": ".py",
   "mimetype": "text/x-python",
   "name": "python",
   "nbconvert_exporter": "python",
   "pygments_lexer": "ipython3",
   "version": "3.6.8"
  }
 },
 "nbformat": 4,
 "nbformat_minor": 4
}
