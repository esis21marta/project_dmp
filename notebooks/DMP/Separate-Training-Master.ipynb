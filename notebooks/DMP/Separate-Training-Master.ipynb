{
 "cells": [
  {
   "cell_type": "code",
   "execution_count": null,
   "metadata": {},
   "outputs": [],
   "source": [
    "from datetime import datetime, timedelta, date\n",
    "\n",
    "import pyspark\n",
    "import pyspark.sql.functions as f\n",
    "import pyspark.sql.functions as F\n",
    "import pyspark.sql.types as t\n",
    "from IPython.core.interactiveshell import InteractiveShell\n",
    "from pyspark import SparkContext, SparkConf\n",
    "from pyspark.sql import SparkSession\n",
    "from pyspark.sql.window import Window\n"
   ]
  },
  {
   "cell_type": "code",
   "execution_count": null,
   "metadata": {},
   "outputs": [],
   "source": [
    "InteractiveShell.ast_node_interactivity = \"all\""
   ]
  },
  {
   "cell_type": "code",
   "execution_count": null,
   "metadata": {},
   "outputs": [],
   "source": [
    "%%time\n",
    "conf = (SparkConf()\n",
    "        .setMaster('yarn-client')\n",
    "        .setAppName('master-split-training')\n",
    "        .set(\"spark.driver.maxResultSize\", \"10g\")\n",
    "        .set(\"spark.driver.memory\", \"16g\")\n",
    "        .set(\"spark.driver.memoryOverhead\", \"4096\")\n",
    "        .set(\"spark.dynamicAllocation.enabled\", \"true\")\n",
    "        .set(\"spark.dynamicAllocation.initialExecutors\", \"1\")\n",
    "        .set(\"spark.dynamicAllocation.maxExecutors\", \"75\")\n",
    "        .set(\"spark.dynamicAllocation.minExecutors\", \"1\")\n",
    "        .set(\"spark.executor.cores\", \"4\")\n",
    "        .set(\"spark.executor.memory\", \"16g\")\n",
    "        .set(\"spark.hadoop.fs.permissions.umask-mode\", \"002\")\n",
    "        .set(\"spark.kryoserializer.buffer.max\", \"512m\")\n",
    "        .set(\"spark.shuffle.service.enabled\", \"true\")\n",
    "        .set(\"spark.sql.broadcastTimeout\", \"1000\")\n",
    "        .set(\"spark.sql.hive.convertMetastoreParquet\", \"false\")\n",
    "        .set(\"spark.sql.parquet.compression.codec\", \"snappy\")\n",
    "        .set(\"spark.sql.shuffle.partitions\", \"1000\")\n",
    "        .set(\"spark.sql.sources.partitionOverwriteMode\", \"dynamic\")\n",
    "        .set(\"spark.yarn.driver.memoryOverhead\", \"4096\")\n",
    "        .set(\"spark.yarn.executor.memoryOverhead\", \"4096\")\n",
    "        .set(\"spark.yarn.maxAppAttempts\", \"2\")\n",
    "        .set(\"spark.yarn.queue\", \"root.hue_dmp_prod\")\n",
    "        .set(\"yarn.nodemanager.vmem-check-enabled\", \"false\")\n",
    "        )\n",
    "sc = SparkContext.getOrCreate(conf=conf)\n",
    "spark = SparkSession(sc)"
   ]
  },
  {
   "cell_type": "markdown",
   "metadata": {},
   "source": [
    "# Create Partner MSISDNs File"
   ]
  },
  {
   "cell_type": "code",
   "execution_count": null,
   "metadata": {},
   "outputs": [],
   "source": [
    "partner_df = spark.read.parquet(\"hdfs:///data/landing/gx_pnt/mck_dmp_training/02_primary/partner_msisdns.parquet\")\n"
   ]
  },
  {
   "cell_type": "code",
   "execution_count": null,
   "metadata": {},
   "outputs": [],
   "source": [
    "internal_msisdn = partner_df.filter(\n",
    "    f.array_contains(partner_df.partner, \"internal\") |\n",
    "    f.array_contains(partner_df.partner, \"internal-random-sample\") |\n",
    "    f.array_contains(partner_df.partner, \"internal_cmp0\") |\n",
    "    f.array_contains(partner_df.partner, \"internal_cmp1\") |\n",
    "    f.array_contains(partner_df.partner, \"internal_cmp10\") |\n",
    "    f.array_contains(partner_df.partner, \"internal_cmp2\") |\n",
    "    f.array_contains(partner_df.partner, \"internal_cmp3\") |\n",
    "    f.array_contains(partner_df.partner, \"internal_cmp4\") |\n",
    "    f.array_contains(partner_df.partner, \"internal_cmp5\") |\n",
    "    f.array_contains(partner_df.partner, \"internal_cmp6\") |\n",
    "    f.array_contains(partner_df.partner, \"internal_cmp7\") |\n",
    "    f.array_contains(partner_df.partner, \"internal_cmp8\") |\n",
    "    f.array_contains(partner_df.partner, \"internal_cmp9\") |\n",
    "    f.array_contains(partner_df.partner, \"internal_hvc_comboLCG\") |\n",
    "    f.array_contains(partner_df.partner, \"internal_hvc_comboTARGET\") |\n",
    "    f.array_contains(partner_df.partner, \"internal_ucg_false\") |\n",
    "    f.array_contains(partner_df.partner, \"internal_ucg_true\")\n",
    ")\n"
   ]
  },
  {
   "cell_type": "code",
   "execution_count": null,
   "metadata": {},
   "outputs": [],
   "source": [
    "internal_msisdn_path = \"hdfs:///data/landing/gx_pnt/mck_dmp_training/02_primary/internal_partner_msisdns.parquet\"\n",
    "internal_msisdn.select(\"msisdn\").repartition(1).write.mode(\"overwrite\").parquet(\"hdfs:///data/landing/gx_pnt/mck_dmp_training/02_primary/internal_partner_msisdns.parquet\")\n"
   ]
  },
  {
   "cell_type": "code",
   "execution_count": null,
   "metadata": {},
   "outputs": [],
   "source": [
    "kred_test_msisdn = \"hdfs:///data/landing/gx_pnt/mck_dmp_training/02_primary/partner_msisdns_kredivo_test.parquet\"\n",
    "kred_lookalike_msisdn = \"hdfs:///data/landing/gx_pnt/mck_dmp_training/02_primary/partner_msisdns_kredivo_lookalike.parquet\"\n",
    "kred_msisdn = \"hdfs:///data/landing/gx_pnt/mck_dmp_training/02_primary/partner_msisdns_kredivo.parquet\"\n",
    "\n",
    "kred_test = partner_df.filter(f.array_contains(partner_df.partner, \"kredivo-test\")).select(\"msisdn\")\n",
    "kred_lookalike = partner_df.filter(f.array_contains(partner_df.partner, \"kredivo-lookalike\")).select(\"msisdn\")\n",
    "kred = partner_df.filter(f.array_contains(partner_df.partner, \"kredivo\")).select(\"msisdn\")\n"
   ]
  },
  {
   "cell_type": "code",
   "execution_count": null,
   "metadata": {},
   "outputs": [],
   "source": [
    "kred_test.repartition(1).write.mode(\"overwrite\").parquet(kred_test_msisdn)\n",
    "kred_lookalike.repartition(1).write.mode(\"overwrite\").parquet(kred_lookalike_msisdn)\n",
    "kred.repartition(1).write.mode(\"overwrite\").parquet(kred_msisdn)\n"
   ]
  },
  {
   "cell_type": "markdown",
   "metadata": {},
   "source": [
    "# Master Table Date"
   ]
  },
  {
   "cell_type": "markdown",
   "metadata": {},
   "source": [
    "### <font color='red'>Note: Update the master_date before running the Split</font>"
   ]
  },
  {
   "cell_type": "code",
   "execution_count": null,
   "metadata": {},
   "outputs": [],
   "source": [
    "# Update the master_date before running the Notebook\n",
    "master_date = date.today().strftime(\"%Y%m%d\")\n"
   ]
  },
  {
   "cell_type": "markdown",
   "metadata": {},
   "source": [
    "# Master DF"
   ]
  },
  {
   "cell_type": "code",
   "execution_count": null,
   "metadata": {},
   "outputs": [],
   "source": [
    "master_path = \"hdfs:///data/landing/gx_pnt/mck_dmp_training/05_model_input/master_{master_date}.parquet\".format(master_date=master_date)\n",
    "master_df = spark.read.parquet(master_path)\n"
   ]
  },
  {
   "cell_type": "markdown",
   "metadata": {},
   "source": [
    "# Internal Master Table"
   ]
  },
  {
   "cell_type": "code",
   "execution_count": null,
   "metadata": {},
   "outputs": [],
   "source": [
    "internal_msisdn_path = \"hdfs:///data/landing/gx_pnt/mck_dmp_training/02_primary/internal_partner_msisdns.parquet\"\n",
    "internal_msisdn = spark.read.parquet(internal_msisdn_path)\n"
   ]
  },
  {
   "cell_type": "code",
   "execution_count": null,
   "metadata": {},
   "outputs": [],
   "source": [
    "internal_master_path = \"hdfs:///data/landing/gx_pnt/mck_dmp_training/05_model_input/master/internal/{master_date}.parquet\".format(master_date=master_date)\n",
    "internal_master_df = master_df.join(f.broadcast(internal_msisdn), [\"msisdn\"])\n"
   ]
  },
  {
   "cell_type": "code",
   "execution_count": null,
   "metadata": {},
   "outputs": [],
   "source": [
    "# Mode \"overwrite\" is removed from the write statement to prevent the accidental removal of old master files.\n",
    "internal_master_df.repartition(50).write.partitionBy(\"weekstart\").parquet(internal_master_path)\n",
    "\n",
    "# internal_master_df.repartition(50).write.mode(\"overwrite\").partitionBy(\"weekstart\").parquet(internal_master_path)\n"
   ]
  },
  {
   "cell_type": "markdown",
   "metadata": {},
   "source": [
    "# External Master Table"
   ]
  },
  {
   "cell_type": "code",
   "execution_count": null,
   "metadata": {},
   "outputs": [],
   "source": [
    "kred_test_msisdn_path = \"hdfs:///data/landing/gx_pnt/mck_dmp_training/02_primary/partner_msisdns_kredivo_test.parquet\"\n",
    "kred_lookalike_msisdn_path = \"hdfs:///data/landing/gx_pnt/mck_dmp_training/02_primary/partner_msisdns_kredivo_lookalike.parquet\"\n",
    "kred_msisdn_path = \"hdfs:///data/landing/gx_pnt/mck_dmp_training/02_primary/partner_msisdns_kredivo.parquet\"\n",
    "\n",
    "kred_test_msisdn = spark.read.parquet(kred_test_msisdn_path)\n",
    "kred_lookalike_msisdn = spark.read.parquet(kred_lookalike_msisdn_path)\n",
    "kred_msisdn = spark.read.parquet(kred_msisdn_path)\n"
   ]
  },
  {
   "cell_type": "code",
   "execution_count": null,
   "metadata": {},
   "outputs": [],
   "source": [
    "kredivo_master_path = \"hdfs:///data/landing/gx_pnt/mck_dmp_training/05_model_input/master/kredivo/{master_date}.parquet\".format(master_date=master_date)\n",
    "kredivo_lookalike_master_path = \"hdfs:///data/landing/gx_pnt/mck_dmp_training/05_model_input/master/kredivo_lookalike/{master_date}.parquet\".format(master_date=master_date)\n",
    "kredivo_test_master_path = \"hdfs:///data/landing/gx_pnt/mck_dmp_training/05_model_input/master/kredivo_test/{master_date}.parquet\".format(master_date=master_date)\n"
   ]
  },
  {
   "cell_type": "markdown",
   "metadata": {},
   "source": [
    "## Filter Data for Kredivo"
   ]
  },
  {
   "cell_type": "code",
   "execution_count": null,
   "metadata": {},
   "outputs": [],
   "source": [
    "kred_data = master_df.filter(f.col(\"fea_los\").isNotNull())\n",
    "kred_data.cache()\n"
   ]
  },
  {
   "cell_type": "code",
   "execution_count": null,
   "metadata": {},
   "outputs": [],
   "source": [
    "kredivo_master_df = kred_data.join(f.broadcast(kred_msisdn), [\"msisdn\"])\n",
    "kredivo_lookalike_master_df = kred_data.join(f.broadcast(kred_lookalike_msisdn), [\"msisdn\"])\n",
    "kredivo_test_master_df = kred_data.join(f.broadcast(kred_test_msisdn), [\"msisdn\"])\n"
   ]
  },
  {
   "cell_type": "code",
   "execution_count": null,
   "metadata": {},
   "outputs": [],
   "source": [
    "# Mode \"overwrite\" is removed from the write statement to prevent the accidental removal of old master files.\n",
    "\n",
    "kredivo_master_df.repartition(5).write.parquet(kredivo_master_path)\n",
    "kredivo_lookalike_master_df.repartition(5).parquet(kredivo_lookalike_master_path)\n",
    "kredivo_test_master_df.repartition(5).write.parquet(kredivo_test_master_path)\n",
    "\n",
    "# kredivo_master_df.repartition(5).write.mode(\"overwrite\").parquet(kredivo_master_path)\n",
    "# kredivo_lookalike_master_df.repartition(5).write.mode(\"overwrite\").parquet(kredivo_lookalike_master_path)\n",
    "# kredivo_test_master_df.repartition(5).write.mode(\"overwrite\").parquet(kredivo_test_master_path)\n"
   ]
  }
 ],
 "metadata": {
  "kernelspec": {
   "display_name": "Python 3",
   "language": "python",
   "name": "python3"
  },
  "language_info": {
   "codemirror_mode": {
    "name": "ipython",
    "version": 3
   },
   "file_extension": ".py",
   "mimetype": "text/x-python",
   "name": "python",
   "nbconvert_exporter": "python",
   "pygments_lexer": "ipython3",
   "version": "3.6.8"
  }
 },
 "nbformat": 4,
 "nbformat_minor": 4
}
